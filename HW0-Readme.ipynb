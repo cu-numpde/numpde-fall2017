{
 "cells": [
  {
   "cell_type": "markdown",
   "metadata": {},
   "source": [
    "# Sarah Aguasvivas HW 0 Readme"
   ]
  },
  {
   "cell_type": "markdown",
   "metadata": {},
   "source": [
    "At first, my logic was to use a first order differentiation scheme at $\\Omega$ and later worry about the end points. My initial D matrix looked like the following:\n",
    "\n",
    "\\begin{equation*}\n",
    "D =  \\begin{bmatrix}\n",
    "-1.0/h & 1/h & 0 &... & 0\\\\\n",
    "0 & -1/h & 1/h & 0& ...\\\\\n",
    "\\end{bmatrix}\n",
    "\\end{equation*}"
   ]
  },
  {
   "cell_type": "code",
   "execution_count": null,
   "metadata": {
    "collapsed": true
   },
   "outputs": [],
   "source": [
    "import numpy\n",
    "from matplotlib import pyplot\n",
    "\n",
    "pyplot.style.use('ggplot')\n",
    "\n",
    "def diffmat(x):\n",
    "    D=numpy.eye(x.shape[0])\n",
    "    print(D.shape)\n",
    "    for i in range(D.shape[0]):\n",
    "        if i < D.shape[0]-1:\n",
    "            h= x[i+1]-x[i]\n",
    "            D[i,i+1] = 1.0/h\n",
    "            D[i,i] = -1.0/h\n",
    "        else:\n",
    "            #if I am in the last point, I am going to \n",
    "            #use a second order backwards scheme.\n",
    "            # 1/(2h) (3*u_i - 4*u_(i-1) + u_(i-2))\n",
    "            h= x[i]-x[i-2]\n",
    "            D[i, i]=3.0/h\n",
    "            D[i, i-1] = -4.0/h\n",
    "            D[i, i-2] = 1.0/h\n",
    "            \n",
    "    return D\n",
    "\n",
    "n= 20\n",
    "x= numpy.linspace(-1,1,n)\n",
    "y=numpy.cos(x) # first derivative\n",
    "yy=-numpy.sin(x) #second derivative\n",
    "f= numpy.sin(x) #function in question\n",
    "\n",
    "DD=diffmat(x)\n",
    "\n",
    "pyplot.figure()\n",
    "pyplot.plot(x, numpy.dot(DD, f))\n",
    "pyplot.plot(x, y)\n",
    "pyplot.show()\n"
   ]
  }
 ],
 "metadata": {
  "kernelspec": {
   "display_name": "Python 3",
   "language": "python",
   "name": "python3"
  },
  "language_info": {
   "codemirror_mode": {
    "name": "ipython",
    "version": 3
   },
   "file_extension": ".py",
   "mimetype": "text/x-python",
   "name": "python",
   "nbconvert_exporter": "python",
   "pygments_lexer": "ipython3",
   "version": "3.6.0"
  }
 },
 "nbformat": 4,
 "nbformat_minor": 2
}
