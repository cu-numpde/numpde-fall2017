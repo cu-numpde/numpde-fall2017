{
 "cells": [
  {
   "cell_type": "markdown",
   "metadata": {},
   "source": [
    "## Homework 3: Due 2017-11-03\n",
    "\n",
    "Write a solver for the regularized $p$-Laplacian,\n",
    "$$ -\\nabla\\cdot\\big( \\kappa(\\nabla u) \\nabla u \\big) = 0 $$\n",
    "where\n",
    "$$ \\kappa(\\nabla u) = \\big(\\frac 1 2 \\epsilon^2 + \\frac 1 2 \\nabla u \\cdot \\nabla u \\big)^{\\frac{p-2}{2}}, $$\n",
    "$ \\epsilon > 0$, and $1 < p < \\infty$.  The case $p=2$ is the conventional Laplacian. This problem gets more strongly nonlinear when $p$ is far from 2 and when $\\epsilon$ approaches zero. The $p \\to 1$ limit is related to plasticity and has applications in non-Newtonion flows and structural mechanics.\n",
    "\n",
    "1. Implement a \"Picard\" solver, which is like a Newton solver except that the Jacobian is replaced by the linear system\n",
    "$$ J_{\\text{Picard}}(u) \\delta u \\sim -\\nabla\\cdot\\big( \\kappa(\\nabla u) \\nabla \\delta u \\big) . $$\n",
    "This is much easier to implement than the full Newton linearization.\n",
    "\n",
    "***\n",
    "First, I will make use of:\n",
    "\n",
    "$$ \\nabla u \\cdot \\nabla u  =  \\lVert{ \\nabla u} \\rVert^2 $$\n",
    "\n"
   ]
  },
  {
   "cell_type": "code",
   "execution_count": 5,
   "metadata": {},
   "outputs": [
    {
     "name": "stdout",
     "output_type": "stream",
     "text": [
      " 0: anorm 1.000000e+00\n",
      " 1: anorm 2.062692e-01\n",
      " 2: anorm 3.116085e-02\n",
      " 3: anorm 3.451438e-03\n",
      " 4: anorm 3.027651e-04\n",
      " 5: anorm 2.199427e-05\n",
      " 6: anorm 1.360815e-06\n",
      " 7: anorm 7.319307e-08\n",
      " 8: anorm 3.470148e-09\n"
     ]
    },
    {
     "data": {
      "image/png": "[encoded data removed]",
      "text/plain": [
       "<matplotlib.figure.Figure at 0x109e5e080>"
      ]
     },
     "metadata": {},
     "output_type": "display_data"
    }
   ],
   "source": [
    "import numpy\n",
    "from matplotlib import pyplot\n",
    "import scipy.sparse as sp\n",
    "import scipy.sparse.linalg\n",
    "import profile\n",
    "import pstats\n",
    "\n",
    "def hgrid(h):\n",
    "    m = int(1/h + 1)  # Number of elements in terms of nominal grid spacing h\n",
    "    h = 1 / (m-1)     # Actual grid spacing\n",
    "    c = numpy.linspace(0, 1, m)\n",
    "    y, x = numpy.meshgrid(c, c)\n",
    "    return x, y\n",
    "\n",
    "def nonlinear2d_Picard(h, x, y, u,p, epsilon, forcing, g0, dirichlet=((),())):\n",
    "    m = x.shape[0]\n",
    "    u0 = g0(x, y).flatten()\n",
    "    F = -forcing(x, y).flatten()\n",
    "    ai = []\n",
    "    aj = []\n",
    "    av = []\n",
    "    def idx(i, j):\n",
    "        i = (m-1) - abs(m-1 - abs(i))\n",
    "        j = (m-1) - abs(m-1 - abs(j))\n",
    "        return i*m + j\n",
    "    mask = numpy.ones_like(x, dtype=bool)\n",
    "    mask[dirichlet[0],:] = False\n",
    "    mask[:,dirichlet[1]] = False\n",
    "    mask = mask.flatten()\n",
    "    u = u.flatten()\n",
    "    F[mask == False] = u[mask == False] - u0[mask == False]\n",
    "    u[mask == False] = u0[mask == False]\n",
    "    for i in range(m):\n",
    "        for j in range(m):\n",
    "            row = idx(i, j)\n",
    "            stencili = numpy.array([idx(*pair) for pair in [(i-1, j), (i, j-1), (i, j), (i, j+1), (i+1, j)]])\n",
    "            \n",
    "            # Stencil to evaluate gradient at four staggered points\n",
    "            grad = numpy.array([[-1, 0, 1, 0, 0],\n",
    "                                [0, -1, 1, 0, 0],\n",
    "                                [0, 0, -1, 1, 0],\n",
    "                                [0, 0, -1, 0, 1]]) / h\n",
    "            # Stencil to average at four staggered points\n",
    "            #avg  = numpy.array([[1, 0, 1, 0, 0],\n",
    "            #                    [0, 1, 1, 0, 0],\n",
    "            #                    [0, 0, 1, 1, 0],\n",
    "            #                    [0, 0, 1, 0, 1]]) / 2\n",
    "            # Stencil to compute divergence at cell centers from fluxes at four staggered points\n",
    "            div = numpy.array([-1, -1, 1, 1]) / h\n",
    "            ustencil = u[stencili]\n",
    "            #ustag = avg @ ustencil\n",
    "            kappa = ((1./2.)*epsilon**2 + (1./2.)*(numpy.linalg.norm(grad@ustencil))**2)**((p-2.)/2.)\n",
    "            if mask[row] == 0: # Dirichlet boundary\n",
    "                ai.append(row)\n",
    "                aj.append(row)\n",
    "                av.append(1)\n",
    "            else:\n",
    "                F[row] -= div @ (kappa * grad @ ustencil)\n",
    "                #JPicard:\n",
    "                Jstencil = -div @ (kappa* grad)\n",
    "                   # + 2*(ustag*(grad @ ustencil))[:,None] * avg)\n",
    "                smask = mask[stencili]\n",
    "                ai += [row]*sum(smask)\n",
    "                aj += stencili[smask].tolist()\n",
    "                av += Jstencil[smask].tolist()\n",
    "    J = sp.csr_matrix((av, (ai, aj)), shape=(m*m,m*m))\n",
    "    return F, J\n",
    "\n",
    "def solve_nonlinear(h, g0, p, epsilon, dirichlet, atol=1e-8, verbose=False):\n",
    "    x, y = hgrid(h)\n",
    "    u = 0*x\n",
    "    for i in range(50):\n",
    "        F, J = nonlinear2d_Picard(h, x, y, u,p,epsilon, lambda x,y: 0*x+1,\n",
    "                               lambda x,y: 0*x, dirichlet=((0,-1),(0,-1)))\n",
    "        anorm = numpy.linalg.norm(F, numpy.inf)\n",
    "        if verbose:\n",
    "            print('{:2d}: anorm {:8e}'.format(i,anorm))\n",
    "        if anorm < atol:\n",
    "            break\n",
    "        deltau = sp.linalg.spsolve(J, -F)\n",
    "        u += deltau.reshape(x.shape)\n",
    "    return x, y, u, i\n",
    "                                                               \n",
    "epsilon= 0.1\n",
    "p1=[1.5]\n",
    "\n",
    "for index,p in enumerate(p1):\n",
    "    x, y, u, i = solve_nonlinear(.01, lambda x,y: 0*x, p, epsilon, dirichlet=((0,-1),(0,-1)), verbose=True)\n",
    "    pyplot.contourf(x, y, u)\n",
    "    pyplot.colorbar();\n",
    "    pyplot.title('Example of Picard for p='+ repr(p) + ' and $\\epsilon$=' + repr(epsilon))\n",
    "    pyplot.show()"
   ]
  },
  {
   "cell_type": "markdown",
   "metadata": {},
   "source": [
    "**How fast does this method converge for values of $p < 2$ and $p > 2$?**"
   ]
  },
  {
   "cell_type": "code",
   "execution_count": 8,
   "metadata": {},
   "outputs": [
    {
     "data": {
      "image/png": "[encoded data removed]",
      "text/plain": [
       "<matplotlib.figure.Figure at 0x10a282e80>"
      ]
     },
     "metadata": {},
     "output_type": "display_data"
    }
   ],
   "source": [
    "p1=[1,1.5,2,2.5, 3]\n",
    "eps=[0.01, 0.1, 0.3, 0.4, 0.5, 1.]\n",
    "\n",
    "colors = ['xk','xb','xg','ok', 'ob', 'om']\n",
    "\n",
    "for in1, epsilon in enumerate(eps):\n",
    "    pees = []\n",
    "    eyes = []\n",
    "    for index,p in enumerate(p1):\n",
    "        x, y, u, i = solve_nonlinear(.1, lambda x,y: 0*x, p, epsilon, dirichlet=((0,-1),(0,-1)), verbose=False)\n",
    "        pyplot.title('#Iter vs. p')\n",
    "        pees.append(p)\n",
    "        eyes.append(i)\n",
    "    pyplot.semilogy(pees,eyes, colors[in1], label='$ \\epsilon= {0}$'.format(epsilon))\n",
    "    pyplot.xlabel('p')\n",
    "    pyplot.ylabel('#Iter')\n",
    "    pyplot.legend(loc='upper left');  \n",
    "pyplot.show()\n",
    "  "
   ]
  },
  {
   "cell_type": "markdown",
   "metadata": {},
   "source": [
    "There is not much information I can get from this plot unless I normalize the y-axis by a scale. This is why I did the following. "
   ]
  },
  {
   "cell_type": "code",
   "execution_count": 10,
   "metadata": {},
   "outputs": [
    {
     "data": {
      "image/png": "[encoded data removed]",
      "text/plain": [
       "<matplotlib.figure.Figure at 0x10a2890f0>"
      ]
     },
     "metadata": {},
     "output_type": "display_data"
    }
   ],
   "source": [
    "p1=[1,1.5,2,2.5, 3]\n",
    "eps=[0.01, 0.1, 0.3, 0.4, 0.5, 1.]\n",
    "\n",
    "colors = ['xk','xb','xg','ok', 'ob', 'om']\n",
    "\n",
    "for in1, epsilon in enumerate(eps):\n",
    "    pees = []\n",
    "    eyes = []\n",
    "    for index,p in enumerate(p1):\n",
    "        x, y, u, i = solve_nonlinear(.1, lambda x,y: 0*x, p, epsilon, dirichlet=((0,-1),(0,-1)), verbose=False)\n",
    "        pyplot.title('Iter/Iter$_{0}$ vs. p')\n",
    "        pees.append(p)\n",
    "        if index==0:\n",
    "            eye= i\n",
    "        eyes.append(i/eye)\n",
    "    pyplot.plot(pees,eyes, colors[in1], label='$ \\epsilon= {0}$'.format(epsilon))\n",
    "    pyplot.legend(loc='upper left');  \n",
    "    pyplot.xlabel('p')\n",
    "    pyplot.ylabel('Iter/Iter$_{0}$')\n",
    "pyplot.show()"
   ]
  },
  {
   "cell_type": "markdown",
   "metadata": {},
   "source": [
    "**My observations**: My measurement for how \"fast\" the method runs for different p's is the number of iterations. I took the ratios of the number of iterations that it takes for the method to converge compared to how many iterations it takes for the method to converge at $p=1$. My take-away from this plot is that for most $\\epsilon$'s, the increase in iterations as p increases. However, for $p<2$, this increase will not be too dramatic. Strangely, for $p=2$, it takes less iterations than at $p=1$ for all values of $\\epsilon$. This might be because we are dealing with the conventional Laplacian. \n",
    "\n",
    "For $p>2$, however, as $\\epsilon$ increases, the number of iterations needed to solve the problem compared to $p=1$ decreases. For very small $\\epsilon$, we can get the case where convergence is compromised too for large values of p. "
   ]
  },
  {
   "cell_type": "markdown",
   "metadata": {},
   "source": [
    "## Question 2: Newton-Krylov"
   ]
  },
  {
   "cell_type": "markdown",
   "metadata": {},
   "source": [
    "* Use the linearization above as a preconditioner to a Newton-Krylov method.  That is, use [`scipy.sparse.linalg.LinearOperator`](https://docs.scipy.org/doc/scipy-0.19.1/reference/generated/scipy.sparse.linalg.LinearOperator.html) to apply the Jacobian to a vector\n",
    "$$ \\tilde J(u) v = \\frac{F(u + h v) - F(u)}{h} . $$\n",
    "Then for each linear solve, use [`scipy.sparse.linalg.gmres`](https://docs.scipy.org/doc/scipy-0.19.1/reference/generated/scipy.sparse.linalg.gmres.html) and pass as a preconditioner, a direct solve with the Picard linearization above. (You might find [`scipy.sparse.linalg.factorized`](https://docs.scipy.org/doc/scipy-0.19.1/reference/generated/scipy.sparse.linalg.factorized.html#scipy.sparse.linalg.factorized) to be useful. Compare algebraic convergence to that of the Picard method.\n",
    "\n",
    "***\n",
    "I made use of the examples in the link below:\n",
    "https://www.programcreek.com/python/example/57163/scipy.sparse.linalg.LinearOperator"
   ]
  },
  {
   "cell_type": "code",
   "execution_count": 200,
   "metadata": {},
   "outputs": [
    {
     "data": {
      "image/png": "[encoded data removed]",
      "text/plain": [
       "<matplotlib.figure.Figure at 0x109f54e80>"
      ]
     },
     "metadata": {},
     "output_type": "display_data"
    }
   ],
   "source": [
    "def solve_nonlinearNK(h, g0, p, epsilon, dirichlet, atol=1e-6, verbose=False):\n",
    "    x, y = hgrid(h)\n",
    "    u = 0*x\n",
    "    for i in range(50):\n",
    "        F, J = nonlinear2d_Picard(h, x, y, u,p,epsilon, lambda x,y: 0*x+1,\n",
    "                               lambda x,y: 0*x, dirichlet=((0,-1),(0,-1)))\n",
    "        anorm = numpy.linalg.norm(F, numpy.inf)\n",
    "        if verbose:\n",
    "            print('{:2d}: anorm {:8e}'.format(i,anorm))\n",
    "        if anorm < atol:\n",
    "            break\n",
    "            \n",
    "        # I tried to do LU decomposition, but for some reason it gave me an ill-conditioned matrix. I would be happy\n",
    "        # to talk about this phenomenon next week. \n",
    "        Ax = lambda x: scipy.sparse.linalg.spsolve(J, x)\n",
    "        A= scipy.sparse.linalg.LinearOperator(J.shape, Ax)\n",
    "        \n",
    "        # Using GMRES:\n",
    "        deltau, info = scipy.sparse.linalg.gmres(J, -F, x0=None, tol=1e-05, restart=None, maxiter=100, xtype=None,\n",
    "                                                 M=A, callback=None, restrt=None)\n",
    "\n",
    "        u += deltau.reshape(x.shape)\n",
    "    return x, y, u, i\n",
    "                                                              \n",
    "p1= [1, 1.5, 2, 2.5, 3]\n",
    "eps=[0.01, 0.3, 0.5]\n",
    "\n",
    "colors = ['xk','xb','xg']\n",
    "colors1 = ['ok','ob','og']\n",
    "for in1, epsilon in enumerate(eps):\n",
    "    pees = []\n",
    "    eyes = []\n",
    "    pees1= []\n",
    "    eyes1= []\n",
    "    for index,p in enumerate(p1):\n",
    "\n",
    "        x, y, u, i = solve_nonlinearNK(.1, lambda x,y: 0*x, p, epsilon, dirichlet=((0,-1),(0,-1)), verbose=False)\n",
    "        x1, y1, u1, i1 = solve_nonlinear(.1, lambda x,y: 0*x, p, epsilon, dirichlet=((0,-1),(0,-1)), verbose=False)\n",
    "        pyplot.title('Comparison Iter/Iter$_{0}$ vs. p for Newton Krylov + Picard and Picard')\n",
    "        pees.append(p)\n",
    "        pees1.append(p)\n",
    "        if index==0:\n",
    "            eye= i\n",
    "            eye1= i1\n",
    "        eyes.append(i/eye)\n",
    "        eyes1.append(i1/eye1)\n",
    "    pyplot.plot(pees,eyes, colors[in1], label='$ \\epsilon= {0} Krylov$'.format(epsilon))\n",
    "    pyplot.plot(pees1,eyes1,colors1[in1], label='$ \\epsilon= {0} Picard$'.format(epsilon))\n",
    "    pyplot.legend(loc='upper left');  \n",
    "    pyplot.xlabel('p')\n",
    "    pyplot.ylabel('Iter/Iter$_{0}$')\n",
    "pyplot.show()"
   ]
  },
  {
   "cell_type": "markdown",
   "metadata": {},
   "source": [
    "**My observations**: The increase of computing time compared to the $p=1$ case is either the same or slighly higher for the Picard solver at $p<2$. However, for $p>2$, the Picard solver converges and it becomes very difficult for the Krylov (at least my implementation) method to converge. As $\\epsilon$ tends to 0, the solving time for Krylov becomes closer to Picard. "
   ]
  },
  {
   "cell_type": "markdown",
   "metadata": {
    "collapsed": true
   },
   "source": [
    "** Can you directly implement a Newton linearization?  Either do it or explain what is involved.  How will its nonlinear convergence compare to that of the Newton-Krylov method?**"
   ]
  },
  {
   "cell_type": "markdown",
   "metadata": {
    "collapsed": true
   },
   "source": [
    "I did not have enough time to implement the Newton linearization. However, I believe it would require to perform the derivative of the left hand side and it would also require that the ratio between that derivative and the function evaluated at all points does not result in a division by zero. As mentioned previously in class, the Newton-Raphsen method would require far more iterations than Krylov or only Picard. "
   ]
  },
  {
   "cell_type": "code",
   "execution_count": null,
   "metadata": {
    "collapsed": true
   },
   "outputs": [],
   "source": []
  }
 ],
 "metadata": {
  "kernelspec": {
   "display_name": "Python 3",
   "language": "python",
   "name": "python3"
  },
  "language_info": {
   "codemirror_mode": {
    "name": "ipython",
    "version": 3
   },
   "file_extension": ".py",
   "mimetype": "text/x-python",
   "name": "python",
   "nbconvert_exporter": "python",
   "pygments_lexer": "ipython3",
   "version": "3.6.0"
  }
 },
 "nbformat": 4,
 "nbformat_minor": 2
}
